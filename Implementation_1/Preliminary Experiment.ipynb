{
 "cells": [
  {
   "cell_type": "code",
   "execution_count": 1,
   "metadata": {},
   "outputs": [],
   "source": [
    "import os\n",
    "import cv2\n",
    "import numpy as np\n",
    "from sklearn.cluster import KMeans\n",
    "from skimage.feature import hog\n",
    "from tqdm import tqdm"
   ]
  },
  {
   "cell_type": "code",
   "execution_count": 2,
   "metadata": {},
   "outputs": [],
   "source": [
    "# Function to load and resize images from a folder\n",
    "def load_and_resize_images_from_folder(folder, size=(128, 128)):\n",
    "    images = []\n",
    "    filenames = []\n",
    "    for filename in os.listdir(folder):\n",
    "        img_path = os.path.join(folder, filename)\n",
    "        img = cv2.imread(img_path)\n",
    "        if img is not None:\n",
    "            resized_img = cv2.resize(img, size)  \n",
    "            images.append(resized_img)\n",
    "            filenames.append(filename)\n",
    "    return images, filenames\n",
    "\n"
   ]
  },
  {
   "cell_type": "code",
   "execution_count": 7,
   "metadata": {},
   "outputs": [],
   "source": [
    "# Function to extract HOG features from images\n",
    "def extract_hog_features(images):\n",
    "    features = []\n",
    "    for image in tqdm(images, desc=\"Extracting HOG features\"):\n",
    "        gray = cv2.cvtColor(image, cv2.COLOR_BGR2GRAY)  # Convert to grayscale\n",
    "        \n",
    "        hog_feature = hog(\n",
    "            gray, \n",
    "            orientations=9, \n",
    "            pixels_per_cell=(8, 8), \n",
    "            cells_per_block=(2, 2), \n",
    "            block_norm='L2-Hys', \n",
    "            visualize=False, \n",
    "            transform_sqrt=True\n",
    "        )\n",
    "        features.append(hog_feature)\n",
    "    return np.array(features)  \n",
    "\n"
   ]
  },
  {
   "cell_type": "code",
   "execution_count": 4,
   "metadata": {},
   "outputs": [],
   "source": [
    "# Function to cluster images and save them in output folders\n",
    "def cluster_and_save_images(features, filenames, images, output_dir, n_clusters=4):\n",
    "    kmeans = KMeans(n_clusters=n_clusters, random_state=42)\n",
    "    labels = kmeans.fit_predict(features)\n",
    "\n",
    "    for i in range(n_clusters):\n",
    "        cluster_dir = os.path.join(output_dir, f'player{i}')\n",
    "        os.makedirs(cluster_dir, exist_ok=True)\n",
    "\n",
    "    for label, filename, img in zip(labels, filenames, images):\n",
    "        cluster_dir = os.path.join(output_dir, f'player{label}')\n",
    "        output_path = os.path.join(cluster_dir, filename)\n",
    "        cv2.imwrite(output_path, img)"
   ]
  },
  {
   "cell_type": "code",
   "execution_count": null,
   "metadata": {},
   "outputs": [],
   "source": [
    "def main():\n",
    "    top_dir = 'DataSet/two_players_top'\n",
    "    bot_dir = 'DataSet/two_players_bot'\n",
    "    output_dir = 'output'\n",
    "\n",
    "    print(\"Loading and resizing images...\")\n",
    "    top_images, top_filenames = load_and_resize_images_from_folder(top_dir)\n",
    "    bot_images, bot_filenames = load_and_resize_images_from_folder(bot_dir)\n",
    "\n",
    "    images = top_images + bot_images\n",
    "    filenames = top_filenames + bot_filenames\n",
    "\n",
    "    print(\"Extracting HOG features...\")\n",
    "    features = extract_hog_features(images)\n",
    "\n",
    "    print(\"Clustering images...\")\n",
    "    cluster_and_save_images(features, filenames, images, output_dir, n_clusters=4)\n",
    "\n",
    "    print(f\"Images clustered into {output_dir}/player0, player1, player2, player3\")\n",
    "\n",
    "if __name__ == \"__main__\":\n",
    "    main()"
   ]
  }
 ],
 "metadata": {
  "kernelspec": {
   "display_name": "newi",
   "language": "python",
   "name": "python3"
  },
  "language_info": {
   "codemirror_mode": {
    "name": "ipython",
    "version": 3
   },
   "file_extension": ".py",
   "mimetype": "text/x-python",
   "name": "python",
   "nbconvert_exporter": "python",
   "pygments_lexer": "ipython3",
   "version": "3.12.7"
  }
 },
 "nbformat": 4,
 "nbformat_minor": 2
}
